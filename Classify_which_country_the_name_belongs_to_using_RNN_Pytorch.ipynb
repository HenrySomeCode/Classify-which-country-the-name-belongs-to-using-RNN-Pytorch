{
  "nbformat": 4,
  "nbformat_minor": 0,
  "metadata": {
    "colab": {
      "provenance": [],
      "authorship_tag": "ABX9TyM5xfvFTiK1HMP+1uU8jPAt",
      "include_colab_link": true
    },
    "kernelspec": {
      "name": "python3",
      "display_name": "Python 3"
    },
    "language_info": {
      "name": "python"
    }
  },
  "cells": [
    {
      "cell_type": "markdown",
      "metadata": {
        "id": "view-in-github",
        "colab_type": "text"
      },
      "source": [
        "<a href=\"https://colab.research.google.com/github/HenrySomeCode/Classify-which-country-the-name-belongs-to-using-RNN-Pytorch/blob/main/Classify_which_country_the_name_belongs_to_using_RNN_Pytorch.ipynb\" target=\"_parent\"><img src=\"https://colab.research.google.com/assets/colab-badge.svg\" alt=\"Open In Colab\"/></a>"
      ]
    },
    {
      "cell_type": "markdown",
      "source": [
        "Ref:\n",
        "* https://pytorch.org/tutorials/intermediate/char_rnn_classification_tutorial.html"
      ],
      "metadata": {
        "id": "AZyuLxDz8PzN"
      }
    },
    {
      "cell_type": "code",
      "source": [
        "from google.colab import drive\n",
        "drive.mount(\"/content/drive\")"
      ],
      "metadata": {
        "colab": {
          "base_uri": "https://localhost:8080/"
        },
        "id": "N-xJ5LkSb47m",
        "outputId": "7eac9e65-c93e-475f-97fe-0248247bd426"
      },
      "execution_count": 3,
      "outputs": [
        {
          "output_type": "stream",
          "name": "stdout",
          "text": [
            "Mounted at /content/drive\n"
          ]
        }
      ]
    },
    {
      "cell_type": "code",
      "source": [
        "zip_path = \"/content/drive/MyDrive/AI_ML_DL Course_by_Master_Linh_HUST/week4/Me/data/data.zip\""
      ],
      "metadata": {
        "id": "Kvw558IYcnW6"
      },
      "execution_count": 4,
      "outputs": []
    },
    {
      "cell_type": "code",
      "source": [
        "!cp \"{zip_path}\" ."
      ],
      "metadata": {
        "id": "ztRFTil8cPbC"
      },
      "execution_count": 5,
      "outputs": []
    },
    {
      "cell_type": "code",
      "source": [
        "!unzip -q /content/data.zip"
      ],
      "metadata": {
        "id": "zBA9qERdc3jO"
      },
      "execution_count": 15,
      "outputs": []
    },
    {
      "cell_type": "code",
      "source": [
        "!rm data.zip"
      ],
      "metadata": {
        "id": "jER2S8svd3bO"
      },
      "execution_count": 16,
      "outputs": []
    },
    {
      "cell_type": "markdown",
      "source": [
        "Preparing the data"
      ],
      "metadata": {
        "id": "gk88LcLUyg1d"
      }
    },
    {
      "cell_type": "markdown",
      "source": [
        "We’ll end up with a dictionary of lists of names per language, {language: [names ...]}."
      ],
      "metadata": {
        "id": "fyzdZ7jr3jZz"
      }
    },
    {
      "cell_type": "code",
      "execution_count": 1,
      "metadata": {
        "id": "IbMspcj3U9rb"
      },
      "outputs": [],
      "source": [
        "from io import open\n",
        "import glob\n",
        "import os"
      ]
    },
    {
      "cell_type": "code",
      "source": [
        "import unicodedata\n",
        "import string"
      ],
      "metadata": {
        "id": "-yZavh53eYrG"
      },
      "execution_count": 20,
      "outputs": []
    },
    {
      "cell_type": "code",
      "source": [
        "def findFiles(path): return glob.glob(path)"
      ],
      "metadata": {
        "id": "bp2hv_mUaspy"
      },
      "execution_count": 2,
      "outputs": []
    },
    {
      "cell_type": "code",
      "source": [
        "print(findFiles(\"/content/data/names/*.txt\"))"
      ],
      "metadata": {
        "colab": {
          "base_uri": "https://localhost:8080/"
        },
        "id": "M5EanCHBbalO",
        "outputId": "bd9c29c3-d0d7-4c6c-a3a5-22033e9ee0c3"
      },
      "execution_count": 19,
      "outputs": [
        {
          "output_type": "stream",
          "name": "stdout",
          "text": [
            "['/content/data/names/Arabic.txt', '/content/data/names/Vietnamese.txt', '/content/data/names/Greek.txt', '/content/data/names/French.txt', '/content/data/names/Dutch.txt', '/content/data/names/Portuguese.txt', '/content/data/names/Japanese.txt', '/content/data/names/Italian.txt', '/content/data/names/Polish.txt', '/content/data/names/Chinese.txt', '/content/data/names/Irish.txt', '/content/data/names/Scottish.txt', '/content/data/names/Russian.txt', '/content/data/names/Czech.txt', '/content/data/names/Korean.txt', '/content/data/names/English.txt', '/content/data/names/Spanish.txt', '/content/data/names/German.txt']\n"
          ]
        }
      ]
    },
    {
      "cell_type": "code",
      "source": [
        "all_letters = string.ascii_letters + \" .,;'\"\n",
        "all_letters"
      ],
      "metadata": {
        "colab": {
          "base_uri": "https://localhost:8080/",
          "height": 36
        },
        "id": "VdhD7kr9eJl4",
        "outputId": "4b40e9d7-25c2-452e-8812-c46fa349fba9"
      },
      "execution_count": 23,
      "outputs": [
        {
          "output_type": "execute_result",
          "data": {
            "text/plain": [
              "\"abcdefghijklmnopqrstuvwxyzABCDEFGHIJKLMNOPQRSTUVWXYZ .,;'\""
            ],
            "application/vnd.google.colaboratory.intrinsic+json": {
              "type": "string"
            }
          },
          "metadata": {},
          "execution_count": 23
        }
      ]
    },
    {
      "cell_type": "code",
      "source": [
        "n_letters = len(all_letters)\n",
        "n_letters"
      ],
      "metadata": {
        "colab": {
          "base_uri": "https://localhost:8080/"
        },
        "id": "HiqZ4cIen_34",
        "outputId": "acd19ebb-61ae-4323-ac0d-1374de0debda"
      },
      "execution_count": 24,
      "outputs": [
        {
          "output_type": "execute_result",
          "data": {
            "text/plain": [
              "57"
            ]
          },
          "metadata": {},
          "execution_count": 24
        }
      ]
    },
    {
      "cell_type": "code",
      "source": [
        "for c in 'Ślusàrski':\n",
        "    print(c)"
      ],
      "metadata": {
        "colab": {
          "base_uri": "https://localhost:8080/"
        },
        "id": "wRdZJzH6tFJM",
        "outputId": "9de820f6-46b7-4750-eb08-f15665be95ec"
      },
      "execution_count": 31,
      "outputs": [
        {
          "output_type": "stream",
          "name": "stdout",
          "text": [
            "Ś\n",
            "l\n",
            "u\n",
            "s\n",
            "à\n",
            "r\n",
            "s\n",
            "k\n",
            "i\n"
          ]
        }
      ]
    },
    {
      "cell_type": "code",
      "source": [
        "for c in unicodedata.normalize('NFD','Ślusàrski'):\n",
        "    print(c)"
      ],
      "metadata": {
        "colab": {
          "base_uri": "https://localhost:8080/"
        },
        "id": "Cc2VQuupsmkV",
        "outputId": "772fa25d-50dd-4892-fc41-bbf866203b64"
      },
      "execution_count": 34,
      "outputs": [
        {
          "output_type": "stream",
          "name": "stdout",
          "text": [
            "S\n",
            "́\n",
            "l\n",
            "u\n",
            "s\n",
            "a\n",
            "̀\n",
            "r\n",
            "s\n",
            "k\n",
            "i\n"
          ]
        }
      ]
    },
    {
      "cell_type": "code",
      "source": [
        "for c in unicodedata.normalize('NFD','Ślusàrski'):\n",
        "    print(unicodedata.category(c))\n",
        "# 'L'etter, 'u'ppercase, 'l'owercase, 'M'ark, 'n'onspacing\n",
        "# Besides: 'A'rabic, 'N'umber . Ref: https://www.fileformat.info/info/unicode/category/index.htm"
      ],
      "metadata": {
        "colab": {
          "base_uri": "https://localhost:8080/"
        },
        "id": "CuyOZrLjtWGn",
        "outputId": "862c2b05-c240-4e70-9278-2f04c2d781c3"
      },
      "execution_count": 35,
      "outputs": [
        {
          "output_type": "stream",
          "name": "stdout",
          "text": [
            "Lu\n",
            "Mn\n",
            "Ll\n",
            "Ll\n",
            "Ll\n",
            "Ll\n",
            "Mn\n",
            "Ll\n",
            "Ll\n",
            "Ll\n",
            "Ll\n"
          ]
        }
      ]
    },
    {
      "cell_type": "code",
      "source": [
        "#convert an Unicode string to plain ASCII\n",
        "def unicodeToAscii(s):\n",
        "    return ''.join(\n",
        "        c for c in unicodedata.normalize('NFD',s)\n",
        "        if unicodedata.category(c) != 'Mn' and c in all_letters\n",
        "    )"
      ],
      "metadata": {
        "id": "c2xB99TnoP4J"
      },
      "execution_count": 25,
      "outputs": []
    },
    {
      "cell_type": "code",
      "source": [
        "print(unicodeToAscii('Ślusàrski'))"
      ],
      "metadata": {
        "colab": {
          "base_uri": "https://localhost:8080/"
        },
        "id": "sCHZ5AuCpO2y",
        "outputId": "731005f2-4321-4be1-e9a4-c4c80e2aac49"
      },
      "execution_count": 26,
      "outputs": [
        {
          "output_type": "stream",
          "name": "stdout",
          "text": [
            "Slusarski\n"
          ]
        }
      ]
    },
    {
      "cell_type": "code",
      "source": [
        "category_lines = {}\n",
        "all_categories = []"
      ],
      "metadata": {
        "id": "q7yjMdecu50O"
      },
      "execution_count": 64,
      "outputs": []
    },
    {
      "cell_type": "code",
      "source": [
        "def readLines(filename):\n",
        "    lines = open(filename, encoding='utf-8').read().strip().split('\\n')\n",
        "    return [unicodeToAscii(line) for line in lines]"
      ],
      "metadata": {
        "id": "dM7LduImu6QX"
      },
      "execution_count": 65,
      "outputs": []
    },
    {
      "cell_type": "code",
      "source": [
        "lines = readLines('/content/data/names/Arabic.txt')\n",
        "lines[:10]"
      ],
      "metadata": {
        "colab": {
          "base_uri": "https://localhost:8080/"
        },
        "id": "WEcaoePFwOPQ",
        "outputId": "f8d36f4c-d3f8-49d4-ee05-f02eb74e552e"
      },
      "execution_count": 44,
      "outputs": [
        {
          "output_type": "execute_result",
          "data": {
            "text/plain": [
              "['Khoury',\n",
              " 'Nahas',\n",
              " 'Daher',\n",
              " 'Gerges',\n",
              " 'Nazari',\n",
              " 'Maalouf',\n",
              " 'Gerges',\n",
              " 'Naifeh',\n",
              " 'Guirguis',\n",
              " 'Baba']"
            ]
          },
          "metadata": {},
          "execution_count": 44
        }
      ]
    },
    {
      "cell_type": "code",
      "source": [
        "for filename in findFiles('data/names/*.txt'):\n",
        "    category = os.path.splitext(os.path.basename(filename))[0]\n",
        "    all_categories.append(category)\n",
        "    lines = readLines(filename)\n",
        "    category_lines[category] = lines"
      ],
      "metadata": {
        "id": "wdhuVaKevO8u"
      },
      "execution_count": 66,
      "outputs": []
    },
    {
      "cell_type": "code",
      "source": [
        "n_categories = len(all_categories)"
      ],
      "metadata": {
        "id": "uDsM5QfZvQOM"
      },
      "execution_count": 67,
      "outputs": []
    },
    {
      "cell_type": "code",
      "source": [
        "n_categories"
      ],
      "metadata": {
        "colab": {
          "base_uri": "https://localhost:8080/"
        },
        "id": "bXTatpu6FHv6",
        "outputId": "738c97bb-ea0c-4958-c338-ef6a8896de8a"
      },
      "execution_count": 68,
      "outputs": [
        {
          "output_type": "execute_result",
          "data": {
            "text/plain": [
              "18"
            ]
          },
          "metadata": {},
          "execution_count": 68
        }
      ]
    },
    {
      "cell_type": "code",
      "source": [
        "print(category_lines['Italian'][:5])"
      ],
      "metadata": {
        "colab": {
          "base_uri": "https://localhost:8080/"
        },
        "id": "1-t3un-RwxKn",
        "outputId": "f3506213-8ae1-4f4e-bf59-bf0657ee365a"
      },
      "execution_count": 69,
      "outputs": [
        {
          "output_type": "stream",
          "name": "stdout",
          "text": [
            "['Abandonato', 'Abatangelo', 'Abatantuono', 'Abate', 'Abategiovanni']\n"
          ]
        }
      ]
    },
    {
      "cell_type": "markdown",
      "source": [
        "Turning names into tensors"
      ],
      "metadata": {
        "id": "bRHpAOsjymOz"
      }
    },
    {
      "cell_type": "markdown",
      "source": [
        "To represent a single letter, we use a “one-hot vector” of size <1 x n_letters>. A one-hot vector is filled with 0s except for a 1 at index of the current letter, e.g. \"b\" = <0 1 0 0 0 ...>"
      ],
      "metadata": {
        "id": "aph5bO1h3ZBt"
      }
    },
    {
      "cell_type": "code",
      "source": [
        "import torch"
      ],
      "metadata": {
        "id": "bbfwqYjDyt_f"
      },
      "execution_count": 70,
      "outputs": []
    },
    {
      "cell_type": "code",
      "source": [
        "def letterToIndex(letter):\n",
        "    return all_letters.find(letter)"
      ],
      "metadata": {
        "id": "6pQS7_wr3wjK"
      },
      "execution_count": 71,
      "outputs": []
    },
    {
      "cell_type": "code",
      "source": [
        "letterToIndex('b')"
      ],
      "metadata": {
        "colab": {
          "base_uri": "https://localhost:8080/"
        },
        "id": "zZLEVcXY4EXl",
        "outputId": "9794f9cd-0cf3-4400-e5c7-e307d6ffad90"
      },
      "execution_count": 51,
      "outputs": [
        {
          "output_type": "execute_result",
          "data": {
            "text/plain": [
              "1"
            ]
          },
          "metadata": {},
          "execution_count": 51
        }
      ]
    },
    {
      "cell_type": "code",
      "source": [
        "def letterToTensor(letter):\n",
        "    # The extra 1 dimension is because PyTorch assumes everything is in batches\n",
        "    # - we’re just using a batch size of 1 here.\n",
        "    tensor = torch.zeros(1, n_letters)\n",
        "    tensor[0][letterToIndex(letter)] = 1\n",
        "    return tensor"
      ],
      "metadata": {
        "id": "ijioqcvI4NFV"
      },
      "execution_count": 72,
      "outputs": []
    },
    {
      "cell_type": "code",
      "source": [
        "letterToTensor('b')"
      ],
      "metadata": {
        "colab": {
          "base_uri": "https://localhost:8080/"
        },
        "id": "Amu7fXTs4_pv",
        "outputId": "4c3318e8-f0d8-4dd5-c5f4-ecaf73f87a94"
      },
      "execution_count": 53,
      "outputs": [
        {
          "output_type": "execute_result",
          "data": {
            "text/plain": [
              "tensor([[0., 1., 0., 0., 0., 0., 0., 0., 0., 0., 0., 0., 0., 0., 0., 0., 0., 0.,\n",
              "         0., 0., 0., 0., 0., 0., 0., 0., 0., 0., 0., 0., 0., 0., 0., 0., 0., 0.,\n",
              "         0., 0., 0., 0., 0., 0., 0., 0., 0., 0., 0., 0., 0., 0., 0., 0., 0., 0.,\n",
              "         0., 0., 0.]])"
            ]
          },
          "metadata": {},
          "execution_count": 53
        }
      ]
    },
    {
      "cell_type": "code",
      "source": [
        "def lineToTensor(line):\n",
        "    tensor = torch.zeros(len(line),1,n_letters)\n",
        "    for li, letter in enumerate(line):\n",
        "        tensor[li][0][letterToIndex(letter)] = 1\n",
        "    return tensor"
      ],
      "metadata": {
        "id": "ubV25mLl5O0_"
      },
      "execution_count": 73,
      "outputs": []
    },
    {
      "cell_type": "code",
      "source": [
        "lineToTensor('Jones')"
      ],
      "metadata": {
        "colab": {
          "base_uri": "https://localhost:8080/"
        },
        "id": "GhGamVgl7HeM",
        "outputId": "e4fd0b77-d12b-4196-eb83-961202d475b8"
      },
      "execution_count": 74,
      "outputs": [
        {
          "output_type": "execute_result",
          "data": {
            "text/plain": [
              "tensor([[[0., 0., 0., 0., 0., 0., 0., 0., 0., 0., 0., 0., 0., 0., 0., 0., 0.,\n",
              "          0., 0., 0., 0., 0., 0., 0., 0., 0., 0., 0., 0., 0., 0., 0., 0., 0.,\n",
              "          0., 1., 0., 0., 0., 0., 0., 0., 0., 0., 0., 0., 0., 0., 0., 0., 0.,\n",
              "          0., 0., 0., 0., 0., 0.]],\n",
              "\n",
              "        [[0., 0., 0., 0., 0., 0., 0., 0., 0., 0., 0., 0., 0., 0., 1., 0., 0.,\n",
              "          0., 0., 0., 0., 0., 0., 0., 0., 0., 0., 0., 0., 0., 0., 0., 0., 0.,\n",
              "          0., 0., 0., 0., 0., 0., 0., 0., 0., 0., 0., 0., 0., 0., 0., 0., 0.,\n",
              "          0., 0., 0., 0., 0., 0.]],\n",
              "\n",
              "        [[0., 0., 0., 0., 0., 0., 0., 0., 0., 0., 0., 0., 0., 1., 0., 0., 0.,\n",
              "          0., 0., 0., 0., 0., 0., 0., 0., 0., 0., 0., 0., 0., 0., 0., 0., 0.,\n",
              "          0., 0., 0., 0., 0., 0., 0., 0., 0., 0., 0., 0., 0., 0., 0., 0., 0.,\n",
              "          0., 0., 0., 0., 0., 0.]],\n",
              "\n",
              "        [[0., 0., 0., 0., 1., 0., 0., 0., 0., 0., 0., 0., 0., 0., 0., 0., 0.,\n",
              "          0., 0., 0., 0., 0., 0., 0., 0., 0., 0., 0., 0., 0., 0., 0., 0., 0.,\n",
              "          0., 0., 0., 0., 0., 0., 0., 0., 0., 0., 0., 0., 0., 0., 0., 0., 0.,\n",
              "          0., 0., 0., 0., 0., 0.]],\n",
              "\n",
              "        [[0., 0., 0., 0., 0., 0., 0., 0., 0., 0., 0., 0., 0., 0., 0., 0., 0.,\n",
              "          0., 1., 0., 0., 0., 0., 0., 0., 0., 0., 0., 0., 0., 0., 0., 0., 0.,\n",
              "          0., 0., 0., 0., 0., 0., 0., 0., 0., 0., 0., 0., 0., 0., 0., 0., 0.,\n",
              "          0., 0., 0., 0., 0., 0.]]])"
            ]
          },
          "metadata": {},
          "execution_count": 74
        }
      ]
    },
    {
      "cell_type": "markdown",
      "source": [
        "Creating the network"
      ],
      "metadata": {
        "id": "peBM5Die7Ytq"
      }
    },
    {
      "cell_type": "code",
      "source": [
        "import torch.nn as nn"
      ],
      "metadata": {
        "id": "qBEL7R7o8s8C"
      },
      "execution_count": 57,
      "outputs": []
    },
    {
      "cell_type": "markdown",
      "source": [
        "![image.png](data:image/png;base64,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)"
      ],
      "metadata": {
        "id": "fIiWSQIbDzIX"
      }
    },
    {
      "cell_type": "markdown",
      "source": [
        "[source: https://stanford.edu/~shervine/teaching/cs-230/cheatsheet-recurrent-neural-networks]"
      ],
      "metadata": {
        "id": "CFjfAyoNEF49"
      }
    },
    {
      "cell_type": "code",
      "source": [
        "class RNN(nn.Module):\n",
        "    def __init__(self, input_size, hidden_size, output_size):\n",
        "        super(RNN, self).__init__()\n",
        "\n",
        "        self.hidden_size = hidden_size\n",
        "\n",
        "        self.i2h = nn.Linear(input_size + hidden_size, hidden_size)\n",
        "        self.h2o = nn.Linear(hidden_size, output_size)\n",
        "        self.softmax = nn.LogSoftmax(dim=1)\n",
        "\n",
        "    def forward(self, input, hidden):\n",
        "        combined = torch.cat((input, hidden), 1)\n",
        "        hidden = self.i2h(combined)\n",
        "        output = self.h2o(hidden)\n",
        "        output = self.softmax(output)\n",
        "        return output, hidden\n",
        "    def initHidden(self):\n",
        "        return torch.zeros(1, self.hidden_size)"
      ],
      "metadata": {
        "id": "ExWyiqnK8tYh"
      },
      "execution_count": 75,
      "outputs": []
    },
    {
      "cell_type": "code",
      "source": [
        "n_categories"
      ],
      "metadata": {
        "colab": {
          "base_uri": "https://localhost:8080/"
        },
        "id": "Vw6ienRRE5cu",
        "outputId": "5074b5cd-46af-417c-ce3d-4dd02a9dfaa3"
      },
      "execution_count": 76,
      "outputs": [
        {
          "output_type": "execute_result",
          "data": {
            "text/plain": [
              "18"
            ]
          },
          "metadata": {},
          "execution_count": 76
        }
      ]
    },
    {
      "cell_type": "code",
      "source": [
        "n_hidden = 128\n",
        "rnn = RNN(n_letters, n_hidden, n_categories)"
      ],
      "metadata": {
        "id": "5J4ZsHn18tn3"
      },
      "execution_count": 77,
      "outputs": []
    },
    {
      "cell_type": "code",
      "source": [
        "input = letterToTensor('A')\n",
        "hidden = torch.zeros(1,n_hidden)\n",
        "output, next_hidden = rnn(input,hidden)"
      ],
      "metadata": {
        "id": "eh7PbiE1Cp-y"
      },
      "execution_count": 78,
      "outputs": []
    },
    {
      "cell_type": "code",
      "source": [
        "print(output)\n",
        "print(next_hidden)"
      ],
      "metadata": {
        "colab": {
          "base_uri": "https://localhost:8080/"
        },
        "id": "-g-AtWXfDBmu",
        "outputId": "525139a5-6ba1-4d0c-fff5-d64b62a9766c"
      },
      "execution_count": 79,
      "outputs": [
        {
          "output_type": "stream",
          "name": "stdout",
          "text": [
            "tensor([[-2.8514, -2.8727, -2.9588, -2.8684, -2.8951, -3.0014, -2.8435, -2.9101,\n",
            "         -2.8075, -3.0025, -2.9857, -2.9099, -2.8268, -2.8168, -2.9557, -2.8278,\n",
            "         -2.8328, -2.8950]], grad_fn=<LogSoftmaxBackward0>)\n",
            "tensor([[-6.3482e-02,  3.4098e-02, -1.7058e-02, -4.3865e-02, -9.7381e-03,\n",
            "         -5.2626e-03,  1.1416e-01,  2.4196e-02, -1.3905e-02,  5.3837e-02,\n",
            "          4.1028e-02,  3.8969e-02, -2.5519e-02,  5.9136e-03, -2.4847e-02,\n",
            "         -6.0029e-02, -4.7071e-02,  6.1951e-02,  2.8623e-02,  1.8542e-02,\n",
            "         -3.5676e-02,  5.2074e-03,  2.7744e-02,  9.6608e-04, -9.9613e-02,\n",
            "         -5.9784e-03,  3.2584e-04, -2.9719e-02,  3.4730e-02, -6.5934e-02,\n",
            "         -5.6213e-02, -5.2299e-02, -2.8767e-02, -1.0870e-02, -7.5144e-02,\n",
            "          5.6038e-03,  3.6784e-02,  5.4718e-02,  3.3800e-02, -9.6302e-02,\n",
            "          2.5029e-03,  7.0866e-02,  1.2310e-01,  8.6745e-02,  1.0755e-01,\n",
            "         -6.1916e-02, -9.0636e-02,  3.6587e-02, -1.5196e-02,  1.1316e-02,\n",
            "         -8.6008e-02,  1.2829e-02, -4.4094e-02,  3.4793e-02, -1.6036e-02,\n",
            "          4.2931e-02,  1.2927e-04, -2.4642e-02, -4.3143e-03, -1.5844e-02,\n",
            "          2.8928e-02,  2.2954e-02, -6.0590e-04, -1.1324e-01,  8.9418e-02,\n",
            "          2.7300e-03, -2.6198e-03,  3.7046e-02,  1.4395e-02, -4.3213e-02,\n",
            "         -8.6875e-03, -4.8837e-02,  1.0490e-02, -9.5280e-02,  8.9765e-03,\n",
            "         -1.3091e-02, -3.7973e-02, -9.8285e-02, -7.8207e-02, -5.5472e-02,\n",
            "         -2.0998e-02,  6.1060e-03, -3.2681e-02, -2.4181e-02,  6.7809e-02,\n",
            "          5.6030e-03,  5.1016e-02, -1.0322e-02, -4.6020e-02, -6.5596e-02,\n",
            "         -1.9036e-02,  5.7901e-02, -1.4643e-02, -8.0563e-02, -7.6197e-02,\n",
            "         -7.2364e-02, -6.1354e-03, -1.9118e-02,  4.0079e-02, -1.4299e-01,\n",
            "          2.6734e-02,  1.3928e-02, -9.1940e-02, -7.1046e-02,  7.1860e-02,\n",
            "          1.3277e-02,  3.9208e-02,  1.0591e-02, -3.8187e-02,  7.2691e-02,\n",
            "         -2.4537e-02,  4.3675e-02, -8.3316e-02,  7.9324e-02, -5.2235e-02,\n",
            "         -2.8194e-02, -3.0675e-02, -5.2811e-02, -2.8610e-02,  7.5965e-02,\n",
            "          3.8264e-02,  4.5865e-02, -4.4558e-02, -6.5190e-02, -5.2622e-02,\n",
            "          6.7010e-02,  2.8015e-02, -3.0374e-02]], grad_fn=<AddmmBackward0>)\n"
          ]
        }
      ]
    },
    {
      "cell_type": "code",
      "source": [
        "input = lineToTensor('Albert')\n",
        "hidden = torch.zeros(1, n_hidden)\n",
        "\n",
        "output, next_hidden = rnn(input[0], hidden)\n",
        "print(output)"
      ],
      "metadata": {
        "colab": {
          "base_uri": "https://localhost:8080/"
        },
        "id": "H6GzV6ajEp4s",
        "outputId": "c32bc510-a32f-41ac-f8f5-d07ecef59b4f"
      },
      "execution_count": 80,
      "outputs": [
        {
          "output_type": "stream",
          "name": "stdout",
          "text": [
            "tensor([[-2.8514, -2.8727, -2.9588, -2.8684, -2.8951, -3.0014, -2.8435, -2.9101,\n",
            "         -2.8075, -3.0025, -2.9857, -2.9099, -2.8268, -2.8168, -2.9557, -2.8278,\n",
            "         -2.8328, -2.8950]], grad_fn=<LogSoftmaxBackward0>)\n"
          ]
        }
      ]
    },
    {
      "cell_type": "markdown",
      "source": [
        "Training"
      ],
      "metadata": {
        "id": "D8k6L5bXFZM7"
      }
    },
    {
      "cell_type": "code",
      "source": [
        "def categoryFromOutput(output):\n",
        "    top_n, top_i = output.topk(1)\n",
        "    category_i = top_i[0].item()\n",
        "    return all_categories[category_i], category_i"
      ],
      "metadata": {
        "id": "6kjPcFhoFbEO"
      },
      "execution_count": 81,
      "outputs": []
    },
    {
      "cell_type": "code",
      "source": [
        "print(categoryFromOutput(output))"
      ],
      "metadata": {
        "colab": {
          "base_uri": "https://localhost:8080/"
        },
        "id": "cuCSL937Ge2n",
        "outputId": "793fad1c-2c6a-4c75-afc3-dc0eb48d0354"
      },
      "execution_count": 82,
      "outputs": [
        {
          "output_type": "stream",
          "name": "stdout",
          "text": [
            "('Polish', 8)\n"
          ]
        }
      ]
    },
    {
      "cell_type": "markdown",
      "source": [
        "We will also want a quick way to get a training example (a name and its language) to use during training process.\n",
        "\n",
        "The reason why [Sean Robertson](https://github.com/spro) don't loop all over the training set is unknown .My assumption is that:\n",
        "\n",
        "He don't split data into train, val, test. So it's kinda bad if we train our model on the whole data and use it to make prediction on the same data.\n",
        "\n",
        "Instead, during training process, we use random example (a name and its language).\n"
      ],
      "metadata": {
        "id": "XXZpsiGYGqy7"
      }
    },
    {
      "cell_type": "code",
      "source": [
        "import random"
      ],
      "metadata": {
        "id": "ieK3kF2xGo2d"
      },
      "execution_count": 88,
      "outputs": []
    },
    {
      "cell_type": "code",
      "source": [
        "def randomChoice(l):\n",
        "    return l[random.randint(0, len(l) - 1)]"
      ],
      "metadata": {
        "id": "qTKdINebGvVY"
      },
      "execution_count": 89,
      "outputs": []
    },
    {
      "cell_type": "code",
      "source": [
        "randomChoice(all_categories)"
      ],
      "metadata": {
        "colab": {
          "base_uri": "https://localhost:8080/",
          "height": 36
        },
        "id": "0E5LaYOMUxlA",
        "outputId": "789e5118-04ea-4af3-f19e-d53c8dd55c84"
      },
      "execution_count": 90,
      "outputs": [
        {
          "output_type": "execute_result",
          "data": {
            "text/plain": [
              "'Irish'"
            ],
            "application/vnd.google.colaboratory.intrinsic+json": {
              "type": "string"
            }
          },
          "metadata": {},
          "execution_count": 90
        }
      ]
    },
    {
      "cell_type": "code",
      "source": [
        "torch.tensor([all_categories.index('Irish')], dtype=torch.long)"
      ],
      "metadata": {
        "colab": {
          "base_uri": "https://localhost:8080/"
        },
        "id": "mNhssIV5Vj59",
        "outputId": "07c7fb97-e730-4a95-8bfc-7056a4db5621"
      },
      "execution_count": 93,
      "outputs": [
        {
          "output_type": "execute_result",
          "data": {
            "text/plain": [
              "tensor([10])"
            ]
          },
          "metadata": {},
          "execution_count": 93
        }
      ]
    },
    {
      "cell_type": "code",
      "source": [
        "def randomTrainingExample():\n",
        "    category = randomChoice(all_categories)\n",
        "    line = randomChoice(category_lines[category])\n",
        "    category_tensor = torch.tensor([all_categories.index(category)], dtype=torch.long)\n",
        "    line_tensor = lineToTensor(line)\n",
        "    return category, line, category_tensor, line_tensor"
      ],
      "metadata": {
        "id": "GzN9ZuaaHiQO"
      },
      "execution_count": 94,
      "outputs": []
    },
    {
      "cell_type": "code",
      "source": [
        "for i in range(10):\n",
        "    category, line, category_tensor, line_tensor = randomTrainingExample()\n",
        "    print('category =', category, '/ line =', line, '/ category_tensor =', category_tensor)"
      ],
      "metadata": {
        "colab": {
          "base_uri": "https://localhost:8080/"
        },
        "id": "A-tj-G-HHkmF",
        "outputId": "093e9674-4f38-4102-b06f-cd1a4a4d5c6b"
      },
      "execution_count": 96,
      "outputs": [
        {
          "output_type": "stream",
          "name": "stdout",
          "text": [
            "category = Czech / line = Kulhanek / category_tensor = tensor([13])\n",
            "category = Arabic / line = Shamoon / category_tensor = tensor([0])\n",
            "category = Polish / line = Sokolsky / category_tensor = tensor([8])\n",
            "category = Dutch / line = Can / category_tensor = tensor([4])\n",
            "category = Dutch / line = Klerkx / category_tensor = tensor([4])\n",
            "category = Irish / line = O'Rourke / category_tensor = tensor([10])\n",
            "category = Italian / line = Grimaldi / category_tensor = tensor([7])\n",
            "category = Russian / line = Eimontov / category_tensor = tensor([12])\n",
            "category = Polish / line = Czajkowski / category_tensor = tensor([8])\n",
            "category = Czech / line = Pavlu / category_tensor = tensor([13])\n"
          ]
        }
      ]
    },
    {
      "cell_type": "code",
      "source": [
        "# I have not studied about this loss, either on the course or by myself\n",
        "criterion = nn.NLLLoss()"
      ],
      "metadata": {
        "id": "plbTrdWIIN0P"
      },
      "execution_count": 85,
      "outputs": []
    },
    {
      "cell_type": "code",
      "source": [
        "learning_rate = 0.005\n",
        "\n",
        "def train(category_tensor, line_tensor):\n",
        "    hidden = rnn.initHidden()\n",
        "    #Sets gradients of all model parameters to zero\n",
        "    rnn.zero_grad()\n",
        "\n",
        "    for i in range(line_tensor.size()[0]):\n",
        "        output, hidden = rnn(line_tensor[i], hidden)\n",
        "\n",
        "    loss = criterion(output, category_tensor)\n",
        "    loss.backward()\n",
        "\n",
        "    # Add parameters' gradients to their values, multiplied by learning rate\n",
        "    # w* = w -n*gradient\n",
        "    for p in rnn.parameters():\n",
        "        p.data.add_(p.grad.data, alpha=-learning_rate)\n",
        "\n",
        "    return output, loss.item()"
      ],
      "metadata": {
        "id": "AjVvNVpHI05N"
      },
      "execution_count": 84,
      "outputs": []
    },
    {
      "cell_type": "code",
      "source": [
        "import time\n",
        "import math"
      ],
      "metadata": {
        "id": "Rm5hHOrtMXe5"
      },
      "execution_count": 83,
      "outputs": []
    },
    {
      "cell_type": "code",
      "source": [
        "n_iters = 100000\n",
        "print_every = 5000\n",
        "plot_every = 1000\n",
        "\n",
        "current_loss = 0\n",
        "all_losses = []"
      ],
      "metadata": {
        "id": "ndHalDkEN5c_"
      },
      "execution_count": 87,
      "outputs": []
    },
    {
      "cell_type": "code",
      "source": [
        "def timeSince(since):\n",
        "    now = time.time()\n",
        "    s = now - since\n",
        "    m = math.floor(s / 60)\n",
        "    s -= m * 60\n",
        "    return '%dm %ds' % (m, s)"
      ],
      "metadata": {
        "id": "VXG-PcXGN6TL"
      },
      "execution_count": 97,
      "outputs": []
    },
    {
      "cell_type": "code",
      "source": [
        "start = time.time()\n",
        "\n",
        "for iter in range(1, n_iters + 1):\n",
        "    category, line, category_tensor, line_tensor = randomTrainingExample()\n",
        "    output, loss = train(category_tensor, line_tensor)\n",
        "    current_loss += loss\n",
        "\n",
        "    # Print ``iter`` number, loss, name and guess\n",
        "    if iter % print_every == 0:\n",
        "        guess, guess_i = categoryFromOutput(output)\n",
        "        correct = '✓' if guess == category else '✗ (%s)' % category\n",
        "        print('%d %d%% (%s) %.4f %s / %s %s' % (iter, iter / n_iters * 100, timeSince(start), loss, line, guess, correct))\n",
        "\n",
        "    # Add current loss avg to list of losses\n",
        "    if iter % plot_every == 0:\n",
        "        all_losses.append(current_loss / plot_every)\n",
        "        current_loss = 0"
      ],
      "metadata": {
        "colab": {
          "base_uri": "https://localhost:8080/"
        },
        "id": "hhs_0sJFPA1P",
        "outputId": "37e34010-b02a-443f-8df9-03f3e03e0fbe"
      },
      "execution_count": 98,
      "outputs": [
        {
          "output_type": "stream",
          "name": "stdout",
          "text": [
            "5000 5% (0m 6s) 2.5675 Haanraats / Greek ✗ (Dutch)\n",
            "10000 10% (0m 13s) 2.6790 Fakhoury / Irish ✗ (Arabic)\n",
            "15000 15% (0m 20s) 1.4704 Gransky / Russian ✓\n",
            "20000 20% (0m 27s) 0.6439 Wilson / Scottish ✓\n",
            "25000 25% (0m 34s) 1.6115 Bang / Chinese ✗ (Korean)\n",
            "30000 30% (0m 40s) 2.9061 Toman / Irish ✗ (Czech)\n",
            "35000 35% (0m 46s) 3.0659 Patrick / Czech ✗ (Irish)\n",
            "40000 40% (0m 53s) 1.4483 Vrazel / Czech ✓\n",
            "45000 45% (0m 59s) 0.9619 Prinz / German ✓\n",
            "50000 50% (1m 6s) 2.2545 Gorskin / Scottish ✗ (Russian)\n",
            "55000 55% (1m 12s) 1.2964 Madden / Irish ✓\n",
            "60000 60% (1m 19s) 0.5464 Santos / Portuguese ✓\n",
            "65000 65% (1m 25s) 0.6623 Jukovich / Russian ✓\n",
            "70000 70% (1m 32s) 1.6377 Rubio / Portuguese ✗ (Spanish)\n",
            "75000 75% (1m 37s) 0.4779 Bach / Vietnamese ✓\n",
            "80000 80% (1m 44s) 0.0276 Tatsuya / Japanese ✓\n",
            "85000 85% (1m 50s) 0.9068 Tomasek / Polish ✗ (Czech)\n",
            "90000 90% (1m 56s) 0.1316 Behoev / Russian ✓\n",
            "95000 95% (2m 3s) 0.6075 Chun / Korean ✓\n",
            "100000 100% (2m 9s) 1.6813 Hanraets / English ✗ (Dutch)\n"
          ]
        }
      ]
    },
    {
      "cell_type": "code",
      "source": [
        "import matplotlib.pyplot as plt\n",
        "import matplotlib.ticker as ticker\n",
        "\n",
        "plt.figure()\n",
        "plt.plot(all_losses)"
      ],
      "metadata": {
        "colab": {
          "base_uri": "https://localhost:8080/",
          "height": 448
        },
        "id": "64rlDwGBRHa1",
        "outputId": "b126da7f-866d-425d-f256-b2ef0718f049"
      },
      "execution_count": 99,
      "outputs": [
        {
          "output_type": "execute_result",
          "data": {
            "text/plain": [
              "[<matplotlib.lines.Line2D at 0x7f55ed4b1330>]"
            ]
          },
          "metadata": {},
          "execution_count": 99
        },
        {
          "output_type": "display_data",
          "data": {
            "text/plain": [
              "<Figure size 640x480 with 1 Axes>"
            ],
            "image/png": "[encoded data removed]"
          },
          "metadata": {}
        }
      ]
    },
    {
      "cell_type": "markdown",
      "source": [
        "Evaluating the Results"
      ],
      "metadata": {
        "id": "XUTdyqQkYUOr"
      }
    },
    {
      "cell_type": "markdown",
      "source": [
        "To see how well the network performs on different categories, we will create a confusion matrix, indicating for every actual language (rows) which language the network guesses (columns)."
      ],
      "metadata": {
        "id": "pVQaZn_hYYWH"
      }
    },
    {
      "cell_type": "code",
      "source": [
        "confusion = torch.zeros(n_categories, n_categories)\n",
        "n_confusion = 10000"
      ],
      "metadata": {
        "id": "eNtUNh2oRjuG"
      },
      "execution_count": 100,
      "outputs": []
    },
    {
      "cell_type": "code",
      "source": [
        "def evaluate(line_tensor):\n",
        "    hidden = rnn.initHidden()\n",
        "\n",
        "    for i in range(line_tensor.size()[0]):\n",
        "        output, hidden = rnn(line_tensor[i], hidden)\n",
        "\n",
        "    return output"
      ],
      "metadata": {
        "id": "jTn_0SroYlFo"
      },
      "execution_count": 101,
      "outputs": []
    },
    {
      "cell_type": "code",
      "source": [
        "for i in range(n_confusion):\n",
        "    category, line, category_tensor, line_tensor = randomTrainingExample()\n",
        "    output = evaluate(line_tensor)\n",
        "    guess, guess_i = categoryFromOutput(output)\n",
        "    category_i = all_categories.index(category)\n",
        "    confusion[category_i][guess_i] += 1"
      ],
      "metadata": {
        "id": "I9jwXCDRZDaw"
      },
      "execution_count": 102,
      "outputs": []
    },
    {
      "cell_type": "code",
      "source": [
        "# Normalize by dividing every row by its sum\n",
        "for i in range(n_categories):\n",
        "    confusion[i] = confusion[i] / confusion[i].sum()"
      ],
      "metadata": {
        "id": "HBj8xyHDZY77"
      },
      "execution_count": 103,
      "outputs": []
    },
    {
      "cell_type": "code",
      "source": [
        "# Set up plot\n",
        "fig = plt.figure()\n",
        "ax = fig.add_subplot(111)\n",
        "cax = ax.matshow(confusion.numpy())\n",
        "fig.colorbar(cax)\n",
        "\n",
        "# Set up axes\n",
        "ax.set_xticklabels([''] + all_categories, rotation=90)\n",
        "ax.set_yticklabels([''] + all_categories)\n",
        "\n",
        "# Force label at every tick\n",
        "ax.xaxis.set_major_locator(ticker.MultipleLocator(1))\n",
        "ax.yaxis.set_major_locator(ticker.MultipleLocator(1))\n",
        "\n",
        "# sphinx_gallery_thumbnail_number = 2\n",
        "plt.show()"
      ],
      "metadata": {
        "colab": {
          "base_uri": "https://localhost:8080/",
          "height": 579
        },
        "id": "jHhHLmzWZioI",
        "outputId": "5584947d-93c4-47b3-b9eb-72e35fb26e61"
      },
      "execution_count": 107,
      "outputs": [
        {
          "output_type": "stream",
          "name": "stderr",
          "text": [
            "<ipython-input-107-077bea1f1a1d>:8: UserWarning: FixedFormatter should only be used together with FixedLocator\n",
            "  ax.set_xticklabels([''] + all_categories, rotation=90)\n",
            "<ipython-input-107-077bea1f1a1d>:9: UserWarning: FixedFormatter should only be used together with FixedLocator\n",
            "  ax.set_yticklabels([''] + all_categories)\n"
          ]
        },
        {
          "output_type": "display_data",
          "data": {
            "text/plain": [
              "<Figure size 640x480 with 2 Axes>"
            ],
            "image/png": "[encoded data removed]"
          },
          "metadata": {}
        }
      ]
    },
    {
      "cell_type": "code",
      "source": [],
      "metadata": {
        "colab": {
          "base_uri": "https://localhost:8080/"
        },
        "id": "ADRw6pV3Zz-t",
        "outputId": "08d69de4-2c6e-4ca6-d693-8a88c446760a"
      },
      "execution_count": 105,
      "outputs": [
        {
          "output_type": "stream",
          "name": "stderr",
          "text": [
            "<ipython-input-105-58da21b0e0c2>:2: UserWarning: FixedFormatter should only be used together with FixedLocator\n",
            "  ax.set_xticklabels([''] + all_categories, rotation=90)\n",
            "<ipython-input-105-58da21b0e0c2>:3: UserWarning: FixedFormatter should only be used together with FixedLocator\n",
            "  ax.set_yticklabels([''] + all_categories)\n"
          ]
        }
      ]
    },
    {
      "cell_type": "code",
      "source": [
        "def predict(input_line, n_predictions=3):\n",
        "    print('\\n> %s' % input_line)\n",
        "    with torch.no_grad():\n",
        "        output = evaluate(lineToTensor(input_line))\n",
        "\n",
        "        # Get top N categories\n",
        "        topv, topi = output.topk(n_predictions, 1, True)\n",
        "        predictions = []\n",
        "\n",
        "        for i in range(n_predictions):\n",
        "            value = topv[0][i].item()\n",
        "            category_index = topi[0][i].item()\n",
        "            print('(%.2f) %s' % (value, all_categories[category_index]))\n",
        "            predictions.append([value, all_categories[category_index]])\n",
        "\n",
        "predict('Dovesky')\n",
        "predict('Jackson')\n",
        "predict('Satoshi')"
      ],
      "metadata": {
        "colab": {
          "base_uri": "https://localhost:8080/"
        },
        "id": "WfsMPNhHbwUM",
        "outputId": "b24a93d9-766c-447a-d297-b8fb37717ab4"
      },
      "execution_count": 106,
      "outputs": [
        {
          "output_type": "stream",
          "name": "stdout",
          "text": [
            "\n",
            "> Dovesky\n",
            "(-0.34) Czech\n",
            "(-1.50) Russian\n",
            "(-3.63) English\n",
            "\n",
            "> Jackson\n",
            "(-0.46) Scottish\n",
            "(-2.15) English\n",
            "(-2.81) Greek\n",
            "\n",
            "> Satoshi\n",
            "(-0.88) Japanese\n",
            "(-1.18) Italian\n",
            "(-2.32) Polish\n"
          ]
        }
      ]
    }
  ]
}